{
 "cells": [
  {
   "cell_type": "markdown",
   "id": "lasting-actor",
   "metadata": {},
   "source": [
    "# Taylor-Couette Pseudospectrum test\n",
    "\n",
    "Use parameters from [Hristova et al (2002, Phys Fluids)](https://aip.scitation.org/doi/abs/10.1063/1.1502658):\n",
    "\n",
    "$$\n",
    "k_z = \\frac{\\pi}{2}\\\\\n",
    "\\eta = 0.5\\\\\n",
    "\\mu = -1\\\\\n",
    "\\mathrm{Re} = 125\n",
    "$$\n",
    "\n",
    "Note that they use a different length unit, $[\\mathrm{L}] = 2 \\delta$, where $\\delta = r_{out} - r_{in}$ is our length unit. However, they use the same velocity unit, so their time unit is also twice ours.\n",
    "\n",
    "We change their parameters to their equivalent in our non-dimensionalization."
   ]
  },
  {
   "cell_type": "code",
   "execution_count": 1,
   "id": "peripheral-environment",
   "metadata": {},
   "outputs": [],
   "source": [
    "import numpy as np\n",
    "from dedalus import public as de\n",
    "from eigentools import Eigenproblem, CriticalFinder\n",
    "import matplotlib.pyplot as plt"
   ]
  },
  {
   "cell_type": "code",
   "execution_count": 2,
   "id": "fleet-transport",
   "metadata": {},
   "outputs": [],
   "source": [
    "plt.style.use('prl')"
   ]
  },
  {
   "cell_type": "code",
   "execution_count": 3,
   "id": "growing-corporation",
   "metadata": {},
   "outputs": [],
   "source": [
    "nr = 32\n",
    "\n",
    "# from Hristova et al (2002)\n",
    "Re1 = 125\n",
    "alpha = np.pi/2 # they call this beta\n",
    "\n",
    "eta = 0.5\n",
    "mu = -1\n",
    "m = 0\n",
    "\n",
    "# convert to our non-Dim\n",
    "# all other params are dimensionless and thus the smae\n",
    "Re1 *= 2\n",
    "alpha *= 2"
   ]
  },
  {
   "cell_type": "code",
   "execution_count": 4,
   "id": "compound-louisiana",
   "metadata": {},
   "outputs": [
    {
     "name": "stdout",
     "output_type": "stream",
     "text": [
      "2022-04-18 15:34:21,319 problems 0/1 INFO :: Solving EVP with homogeneity tolerance of 1.000e-10\n",
      "2022-04-18 15:34:21,447 problems 0/1 INFO :: Solving EVP with homogeneity tolerance of 1.000e-10\n"
     ]
    }
   ],
   "source": [
    "\"\"\"\n",
    "delta = R2 - R1\n",
    "mu = Omega2/Omega1\n",
    "eta = R1/R2\n",
    "\n",
    "scale [L] = delta\n",
    "scale [T] = delta/(R1 Omega1)\n",
    "scale [V] = R1 Omega1\n",
    "\"\"\"\n",
    "#derived parameters\n",
    "R1 = eta/(1. - eta)\n",
    "R2 = 1./(1-eta)\n",
    "nu = 1./Re1\n",
    "\n",
    "variables = ['u','ur','v','vr','w','wr','p']\n",
    "\n",
    "#domain\n",
    "r_basis = de.Chebyshev('r', nr, interval=[R1, R2])\n",
    "\n",
    "bases = [r_basis]\n",
    "domain = de.Domain(bases) \n",
    "\n",
    "#problem\n",
    "problem = de.EVP(domain, eigenvalue='sigma', variables=variables)\n",
    "\n",
    "#params into equations\n",
    "problem.parameters['eta']=eta\n",
    "problem.parameters['mu']=mu\n",
    "problem.parameters['nu']=nu\n",
    "problem.parameters['kz'] = alpha\n",
    "problem.parameters['m'] = m\n",
    "\n",
    "#Substitutions\n",
    "\n",
    "\"\"\"\n",
    "this implements the cylindrical del operators. \n",
    "NB: ASSUMES THE EQUATION SET IS PREMULTIPLIED BY A POWER OF r (SEE BELOW)!!!\n",
    "\n",
    "Lap_s --> scalar laplacian\n",
    "Lap_r --> r component of vector laplacian\n",
    "Lap_t --> theta component of vector laplacian\n",
    "Lap_z --> z component of vector laplacian\n",
    "\n",
    "\"\"\"\n",
    "\n",
    "problem.substitutions['A'] = '(1/eta - 1.)*(mu-eta**2)/(1-eta**2)'\n",
    "problem.substitutions['B'] = 'eta*(1-mu)/((1-eta)*(1-eta**2))'\n",
    "\n",
    "problem.substitutions['v0'] = 'A*r + B/r'       #background profile? forcing instead of forcing the boundaries\n",
    "problem.substitutions['dv0dr'] = 'A - B/(r*r)'  #d/dr of background forcing\n",
    "\n",
    "problem.substitutions['dtheta(f)'] = '1j*m*f'\n",
    "problem.substitutions['dz(f)'] = '1j*kz*f'\n",
    "problem.substitutions['dt(f)'] = 'sigma*f'\n",
    "\n",
    "# assume pre-multiplication by r*r\n",
    "problem.substitutions['Lap_s(f, f_r)'] = \"r*r*dr(f_r) + r*f_r + dtheta(dtheta(f)) + r*r*dz(dz(f))\"\n",
    "problem.substitutions['Lap_r'] = \"Lap_s(u, ur) - u - 2*dtheta(v)\"\n",
    "problem.substitutions['Lap_t'] = \"Lap_s(v, vr) - v + 2*dtheta(u)\"\n",
    "problem.substitutions['Lap_z'] = \"Lap_s(w, wr)\"\n",
    "\n",
    "# momentum equations\n",
    "problem.add_equation(\"r*r*dt(u) - nu*Lap_r - 2*r*v0*v + r*v0*dtheta(u) + r*r*dr(p) = 0\")\n",
    "problem.add_equation(\"r*r*dt(v) - nu*Lap_t + r*r*dv0dr*u + r*v0*u + r*v0*dtheta(v) + r*dtheta(p)  = 0\")\n",
    "problem.add_equation(\"r*r*dt(w) - nu*Lap_z + r*r*dz(p) + r*v0*dtheta(w) = 0.\")\n",
    "\n",
    "#continuity\n",
    "problem.add_equation(\"r*ur + u + dtheta(v) + r*dz(w) = 0\")\n",
    "\n",
    "#Auxillilary equations\n",
    "problem.add_equation(\"ur - dr(u) = 0\")\n",
    "problem.add_equation(\"vr - dr(v) = 0\")\n",
    "problem.add_equation(\"wr - dr(w) = 0\")\n",
    "\n",
    "#Boundary Conditions\n",
    "problem.add_bc(\"left(u) = 0\")\n",
    "problem.add_bc(\"right(u) = 0\")\n",
    "problem.add_bc(\"left(v) = 0\")\n",
    "problem.add_bc(\"right(v) = 0\")\n",
    "problem.add_bc(\"left(w) = 0\")\n",
    "problem.add_bc(\"right(w) = 0\")\n",
    "\n",
    "\n",
    "ep = Eigenproblem(problem)"
   ]
  },
  {
   "cell_type": "code",
   "execution_count": 5,
   "id": "vanilla-pilot",
   "metadata": {},
   "outputs": [],
   "source": [
    "ep.solve(sparse=False)"
   ]
  },
  {
   "cell_type": "code",
   "execution_count": 6,
   "id": "concerned-ethiopia",
   "metadata": {},
   "outputs": [],
   "source": [
    "def energy_norm(Q1, Q2):\n",
    "    u1 = Q1['u']\n",
    "    v1 = Q1['v']\n",
    "    w1 = Q1['w']\n",
    "    u2 = Q2['u']\n",
    "    v2 = Q2['v']\n",
    "    w2 = Q2['w']\n",
    "\n",
    "    field = (np.conj(u1)*u2 + np.conj(v1)*v2 + np.conj(w1)*w2).evaluate().integrate()\n",
    "    return field['g'][0]"
   ]
  },
  {
   "cell_type": "markdown",
   "id": "compact-candidate",
   "metadata": {},
   "source": [
    "Now because their time unit is twice ours, their growth rates and frequencies are twice ours. Here we scale our results by a factor of one half to match their plots."
   ]
  },
  {
   "cell_type": "code",
   "execution_count": 11,
   "id": "painted-retro",
   "metadata": {},
   "outputs": [],
   "source": [
    "k = 25\n",
    "\n",
    "psize = 100\n",
    "ps_real = np.linspace(-4,2,psize)\n",
    "ps_imag = np.linspace(-3,3,psize)"
   ]
  },
  {
   "cell_type": "code",
   "execution_count": 13,
   "id": "composed-partner",
   "metadata": {},
   "outputs": [],
   "source": [
    "ep.calc_ps(k, (ps_real, ps_imag), inner_product=energy_norm,maxiter=20)"
   ]
  },
  {
   "cell_type": "code",
   "execution_count": 31,
   "id": "large-lexington",
   "metadata": {},
   "outputs": [
    {
     "data": {
      "text/plain": [
       "array([-1.8, -1.5, -1.2, -0.9, -0.6, -0.3,  0. ])"
      ]
     },
     "execution_count": 31,
     "metadata": {},
     "output_type": "execute_result"
    }
   ],
   "source": [
    "clevels"
   ]
  },
  {
   "cell_type": "code",
   "execution_count": 33,
   "id": "speaking-looking",
   "metadata": {},
   "outputs": [],
   "source": [
    "clevels = np.linspace(-1.8,0,7)"
   ]
  },
  {
   "cell_type": "markdown",
   "id": "automated-gazette",
   "metadata": {},
   "source": [
    "And this reproduces their figure 7 (top panel) extremely well."
   ]
  },
  {
   "cell_type": "code",
   "execution_count": 34,
   "id": "imperial-complex",
   "metadata": {},
   "outputs": [
    {
     "data": {
      "text/plain": [
       "<matplotlib.contour.QuadContourSet at 0x2aab2279bbe0>"
      ]
     },
     "execution_count": 34,
     "metadata": {},
     "output_type": "execute_result"
    },
    {
     "data": {
      "image/png": "[encoded data removed]",
      "text/plain": [
       "<Figure size 360x360 with 1 Axes>"
      ]
     },
     "metadata": {
      "needs_background": "light"
     },
     "output_type": "display_data"
    }
   ],
   "source": [
    "plt.figure(figsize=(5,5))\n",
    "plt.scatter(ep.evalues_good.imag/2, ep.evalues_good.real/2)\n",
    "plt.xlim(-1.5,1.5)\n",
    "plt.ylim(-2,1)\n",
    "plt.axhline(0,color='k',alpha=0.3)\n",
    "plt.contour(ep.ps_imag/2, ep.ps_real/2, np.log10(ep.pseudospectrum.T/2),levels=clevels,colors='k')\n",
    "#ax.set_xlim(-2,0.1)\n",
    "#ax.scatter()"
   ]
  },
  {
   "cell_type": "code",
   "execution_count": null,
   "id": "shaped-algorithm",
   "metadata": {},
   "outputs": [],
   "source": []
  }
 ],
 "metadata": {
  "kernelspec": {
   "display_name": "Python 3",
   "language": "python",
   "name": "python3"
  },
  "language_info": {
   "codemirror_mode": {
    "name": "ipython",
    "version": 3
   },
   "file_extension": ".py",
   "mimetype": "text/x-python",
   "name": "python",
   "nbconvert_exporter": "python",
   "pygments_lexer": "ipython3",
   "version": "3.7.3"
  }
 },
 "nbformat": 4,
 "nbformat_minor": 5
}
