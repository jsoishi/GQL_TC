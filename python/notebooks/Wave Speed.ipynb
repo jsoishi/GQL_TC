{
 "cells": [
  {
   "cell_type": "code",
   "execution_count": 1,
   "metadata": {},
   "outputs": [
    {
     "ename": "ModuleNotFoundError",
     "evalue": "No module named 'dedalus'",
     "output_type": "error",
     "traceback": [
      "\u001b[0;31m---------------------------------------------------------------------------\u001b[0m",
      "\u001b[0;31mModuleNotFoundError\u001b[0m                       Traceback (most recent call last)",
      "\u001b[0;32m<ipython-input-1-e8fb192ccbc0>\u001b[0m in \u001b[0;36m<module>\u001b[0;34m\u001b[0m\n\u001b[1;32m      5\u001b[0m \u001b[0;32mimport\u001b[0m \u001b[0mscipy\u001b[0m\u001b[0;34m.\u001b[0m\u001b[0moptimize\u001b[0m \u001b[0;32mas\u001b[0m \u001b[0mopt\u001b[0m\u001b[0;34m\u001b[0m\u001b[0;34m\u001b[0m\u001b[0m\n\u001b[1;32m      6\u001b[0m \u001b[0;32mimport\u001b[0m \u001b[0mscipy\u001b[0m\u001b[0;34m.\u001b[0m\u001b[0mintegrate\u001b[0m \u001b[0;32mas\u001b[0m \u001b[0mintegrate\u001b[0m\u001b[0;34m\u001b[0m\u001b[0;34m\u001b[0m\u001b[0m\n\u001b[0;32m----> 7\u001b[0;31m \u001b[0;32mimport\u001b[0m \u001b[0mdedalus\u001b[0m\u001b[0;34m.\u001b[0m\u001b[0mpublic\u001b[0m \u001b[0;32mas\u001b[0m \u001b[0mde\u001b[0m\u001b[0;34m\u001b[0m\u001b[0;34m\u001b[0m\u001b[0m\n\u001b[0m",
      "\u001b[0;31mModuleNotFoundError\u001b[0m: No module named 'dedalus'"
     ]
    }
   ],
   "source": [
    "%matplotlib notebook\n",
    "import numpy as np\n",
    "import h5py\n",
    "import matplotlib.pyplot\n",
    "import scipy.optimize as opt\n",
    "import scipy.integrate as integrate\n",
    "import dedalus.public as de"
   ]
  },
  {
   "cell_type": "code",
   "execution_count": 2,
   "metadata": {},
   "outputs": [],
   "source": [
    "df = h5py.File(\"snapshots_s1.h5\",\"r\")"
   ]
  },
  {
   "cell_type": "code",
   "execution_count": 40,
   "metadata": {},
   "outputs": [],
   "source": [
    "r = df['scales/r/1.0']\n",
    "theta = df['scales/theta/1.0']\n",
    "z = df['scales/z/1.0']\n",
    "\n",
    "nr = r.shape[0]\n",
    "nz = z.shape[0]\n",
    "ntheta = theta.shape[0]"
   ]
  },
  {
   "cell_type": "code",
   "execution_count": 30,
   "metadata": {},
   "outputs": [],
   "source": [
    "def find_endpoints(grid):\n",
    "    N = grid.shape[0]\n",
    "    index = np.arange(N)\n",
    "    native_grid = np.cos(np.pi*(index +0.5)/N)\n",
    "    \n",
    "    a = (r[1]-r[0])/(native_grid[-2]-native_grid[-1])\n",
    "    b = ((r[1]+r[0]) - a*(native_grid[-2]+native_grid[-1]))/2\n",
    "    \n",
    "    left = -a + b\n",
    "    right = a + b\n",
    "    \n",
    "    return left, right"
   ]
  },
  {
   "cell_type": "code",
   "execution_count": 33,
   "metadata": {},
   "outputs": [],
   "source": [
    "def find_fourier_right(grid):\n",
    "    delta = grid[1]-grid[0]\n",
    "    \n",
    "    return grid[-1] + delta"
   ]
  },
  {
   "cell_type": "code",
   "execution_count": 34,
   "metadata": {},
   "outputs": [],
   "source": [
    "R1, R2 = find_endpoints(r)\n",
    "Lz = find_fourier_right(z)"
   ]
  },
  {
   "cell_type": "code",
   "execution_count": 41,
   "metadata": {},
   "outputs": [],
   "source": [
    "rr = de.Chebyshev('r',nr,interval=[R1,R2])\n",
    "ttheta = de.Fourier('theta',ntheta,interval=[0,2*np.pi])\n",
    "zz = de.Fourier('z',nz, interval=[0,Lz])\n",
    "\n",
    "domain = de.Domain([zz,ttheta,rr], grid_dtype='float')"
   ]
  },
  {
   "cell_type": "code",
   "execution_count": 42,
   "metadata": {},
   "outputs": [],
   "source": [
    "u1 = domain.new_field()\n",
    "u2 = domain.new_field()\n",
    "\n",
    "u1['g'] = df['tasks/u'][-2]\n",
    "u2['g'] = df['tasks/u'][-1]"
   ]
  },
  {
   "cell_type": "code",
   "execution_count": 43,
   "metadata": {},
   "outputs": [],
   "source": [
    "delta_t = df['scales/sim_time'][-1]- df['scales/sim_time'][-2]"
   ]
  },
  {
   "cell_type": "code",
   "execution_count": null,
   "metadata": {},
   "outputs": [],
   "source": [
    "def wave_speed(c,data1=data1,data2=data2,deltat=deltat):\n",
    "    u_interp = u2.interpolate('theta=')"
   ]
  }
 ],
 "metadata": {
  "kernelspec": {
   "display_name": "Python 3",
   "language": "python",
   "name": "python3"
  },
  "language_info": {
   "codemirror_mode": {
    "name": "ipython",
    "version": 3
   },
   "file_extension": ".py",
   "mimetype": "text/x-python",
   "name": "python",
   "nbconvert_exporter": "python",
   "pygments_lexer": "ipython3",
   "version": "3.6.9"
  }
 },
 "nbformat": 4,
 "nbformat_minor": 2
}
