{
 "cells": [
  {
   "cell_type": "code",
   "execution_count": 34,
   "metadata": {},
   "outputs": [],
   "source": [
    "import dedalus.public as de\n",
    "import numpy as np\n",
    "import matplotlib.pyplot as plt"
   ]
  },
  {
   "cell_type": "markdown",
   "metadata": {},
   "source": [
    "Create a Dedalus basis (Chebyshev) and a domain (one-D here)"
   ]
  },
  {
   "cell_type": "code",
   "execution_count": 35,
   "metadata": {},
   "outputs": [
    {
     "name": "stdout",
     "output_type": "stream",
     "text": [
      "r\n"
     ]
    },
    {
     "name": "stderr",
     "output_type": "stream",
     "text": [
      "/var/folders/c2/yhyz88v145qf1hvpjgtwf2900000gq/T/ipykernel_65541/1648237519.py:7: DeprecationWarning: `np.float` is a deprecated alias for the builtin `float`. To silence this warning, use `float` by itself. Doing this will not modify any behavior and is safe. If you specifically wanted the numpy scalar type, use `np.float64` here.\n",
      "Deprecated in NumPy 1.20; for more details and guidance: https://numpy.org/devdocs/release/1.20.0-notes.html#deprecations\n",
      "  d = de.Domain([r], grid_dtype=np.float)\n"
     ]
    }
   ],
   "source": [
    "nr = 32\n",
    "R1 = 7\n",
    "R2 = 8\n",
    "\n",
    "r = de.Chebyshev('r', nr, interval=(R1,R2))\n",
    "d = de.Domain([r], grid_dtype=np.float)"
   ]
  },
  {
   "cell_type": "code",
   "execution_count": 38,
   "metadata": {},
   "outputs": [],
   "source": [
    "v_r_DNS = d.new_field()"
   ]
  },
  {
   "cell_type": "markdown",
   "metadata": {},
   "source": [
    "You won't need to do this; you'll *load* data from your simulation"
   ]
  },
  {
   "cell_type": "code",
   "execution_count": 33,
   "metadata": {},
   "outputs": [
    {
     "name": "stdout",
     "output_type": "stream",
     "text": [
      "<class 'numpy.ndarray'>\n",
      "<class 'dedalus.core.field.Field'>\n",
      "[0.00189209 0.01700068 0.04705741 0.09169339 0.15024222 0.22162381\n",
      " 0.30422131 0.3957763  0.49333008 0.59323713 0.69127036 0.78282586\n",
      " 0.86321862 0.92804302 0.97355601 0.99703117 0.99703117 0.97355601\n",
      " 0.92804302 0.86321862 0.78282586 0.69127036 0.59323713 0.49333008\n",
      " 0.3957763  0.30422131 0.22162381 0.15024222 0.09169339 0.04705741\n",
      " 0.01700068 0.00189209]\n"
     ]
    }
   ],
   "source": [
    "r = d.grid(0)\n",
    "\n",
    "print(type(r))\n",
    "\n",
    "v_r_DNS['g'] = np.sin(np.pi*(r-R1)) #['g'] means on the grid, not the coefficients\n",
    "\n",
    "print(type(v_r_DNS))\n",
    "print(v_r_DNS['g'])\n",
    "#print(v_r_DNS['c'])"
   ]
  },
  {
   "cell_type": "code",
   "execution_count": 27,
   "metadata": {},
   "outputs": [
    {
     "data": {
      "text/plain": [
       "[<matplotlib.lines.Line2D at 0x11abe7880>]"
      ]
     },
     "execution_count": 27,
     "metadata": {},
     "output_type": "execute_result"
    },
    {
     "data": {
      "image/png": "[encoded data removed]",
      "text/plain": [
       "<Figure size 432x288 with 1 Axes>"
      ]
     },
     "metadata": {
      "needs_background": "light"
     },
     "output_type": "display_data"
    }
   ],
   "source": [
    "plt.plot(r, v_r_DNS['g'],'o-')"
   ]
  },
  {
   "cell_type": "code",
   "execution_count": 28,
   "metadata": {},
   "outputs": [],
   "source": [
    "#derived_field = ((v_r_GQL - v_r_DNS)**2).evaluate() # must call evaluate()\n",
    "derived_field = ((2 * v_r_DNS - v_r_DNS)**2).evaluate() # must call evaluate()"
   ]
  },
  {
   "cell_type": "code",
   "execution_count": 29,
   "metadata": {},
   "outputs": [
    {
     "data": {
      "text/plain": [
       "dedalus.core.field.Field"
      ]
     },
     "execution_count": 29,
     "metadata": {},
     "output_type": "execute_result"
    }
   ],
   "source": [
    "type(derived_field)"
   ]
  },
  {
   "cell_type": "code",
   "execution_count": 40,
   "metadata": {},
   "outputs": [],
   "source": [
    "integ_v_r_DNS = v_r_DNS.integrate()"
   ]
  },
  {
   "cell_type": "code",
   "execution_count": 31,
   "metadata": {},
   "outputs": [
    {
     "data": {
      "text/plain": [
       "0.6366197723675816"
      ]
     },
     "execution_count": 31,
     "metadata": {},
     "output_type": "execute_result"
    }
   ],
   "source": [
    "integ_v_r_DNS['g'][0]"
   ]
  },
  {
   "cell_type": "code",
   "execution_count": 32,
   "metadata": {},
   "outputs": [
    {
     "data": {
      "text/plain": [
       "0.6366197723675814"
      ]
     },
     "execution_count": 32,
     "metadata": {},
     "output_type": "execute_result"
    }
   ],
   "source": [
    "(np.cos(0) - np.cos(np.pi))/np.pi"
   ]
  },
  {
   "cell_type": "code",
   "execution_count": null,
   "metadata": {},
   "outputs": [],
   "source": []
  }
 ],
 "metadata": {
  "kernelspec": {
   "display_name": "Python 3",
   "language": "python",
   "name": "python3"
  },
  "language_info": {
   "codemirror_mode": {
    "name": "ipython",
    "version": 3
   },
   "file_extension": ".py",
   "mimetype": "text/x-python",
   "name": "python",
   "nbconvert_exporter": "python",
   "pygments_lexer": "ipython3",
   "version": "3.8.12"
  }
 },
 "nbformat": 4,
 "nbformat_minor": 4
}
