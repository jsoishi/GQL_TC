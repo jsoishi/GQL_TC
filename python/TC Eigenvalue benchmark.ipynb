{
 "cells": [
  {
   "cell_type": "code",
   "execution_count": 1,
   "metadata": {},
   "outputs": [],
   "source": [
    "import sys\n",
    "sys.path.append(\"/home/joishi/hg-projects/eigentools\")\n",
    "\n",
    "import numpy as np\n",
    "from dedalus import public as de\n",
    "from eigentools import Eigenproblem"
   ]
  },
  {
   "cell_type": "markdown",
   "metadata": {},
   "source": [
    "# Taylor-Couette Linear Eigenvalue Benchmarking\n",
    "\n",
    "In order to test our code, particularly the linear terms, we compare against the table provided in Marcus (1984)."
   ]
  },
  {
   "cell_type": "markdown",
   "metadata": {},
   "source": [
    "## Comparing Marcus 1984 with Chandrashekar 1961\n",
    "\n",
    "\n",
    "In Marcus 1984, the control parameter is the Reynolds number with:\n",
    "\n",
    "\\begin{align}\n",
    "\\mathrm{Re} = \\frac{\\Omega_{1} R_1 d}{\\nu}\n",
    "\\end{align}\n",
    "with $d = b-a$.\n",
    "\n",
    "Meanwhile, in Chandrashekar the control parameter is the Taylor number (eqn 314):\n",
    "\\begin{align}\n",
    "    \\mathrm{Ta} = \\frac{64}{9}\\left(\\frac{\\Omega_{1} R_1^2}{\\nu}\\right)^2(1-\\mu)(1-4\\mu)\n",
    "\\end{align}\n",
    "with $\\mu = \\Omega_2/\\Omega_1$, $\\eta = R_1/R_2$.  We can tie to Table 35, where $\\eta = 0.5$ and where Marcus is pulling his comparison values from the cases with $\\kappa=0.4$ and $\\kappa=0.6$.\n",
    "\n",
    "\n",
    "Converting Chandrashekar's $Ta$ to $Re$ we have\n",
    "\\begin{align}\n",
    "    d = R_1 \\frac{1-\\eta}{\\eta}\n",
    "\\end{align}\n",
    "or\n",
    "\\begin{align}\n",
    "    R_1 = d \\frac{\\eta}{1-\\eta}\n",
    "\\end{align}\n",
    "and\n",
    "\\begin{align}\n",
    "    \\mathrm{Ta} = \\frac{64}{9}\\left(\\frac{\\Omega_{1} R_1 d}{\\nu}\\frac{\\eta}{1-\\eta}\\right)^2(1-\\mu)(1-4\\mu)\n",
    "\\end{align}\n",
    "and\n",
    "\\begin{align}\n",
    "    \\mathrm{Ta} = \\frac{64}{9}\\left(\\mathrm{Re}\\frac{\\eta}{1-\\eta}\\right)^2(1-\\mu)(1-4\\mu)\n",
    "\\end{align}\n",
    "or\n",
    "\\begin{align}\n",
    "\\mathrm{Re}^2 = \\mathrm{Ta}\\frac{9}{64}\\left(\\frac{1-\\eta}{\\eta}\\right)^2\\frac{1}{(1-\\mu)(1-4\\mu)}\n",
    "\\end{align}\n",
    "\n",
    "Chandra's two cases that Marcus claims to reproduce are at ($\\eta = 1/2$):\n",
    "\\begin{align}\n",
    "    \\kappa = 0.4 \\quad & \\alpha \\approx 0.117647 & \\mathrm{Ta} \\approx 1.954 \\times 10^4 \\\\\n",
    "    \\kappa = 0.6 \\quad & \\alpha \\approx 0.166667 & \\mathrm{Ta} \\approx 2.264 \\times 10^4\n",
    "\\end{align}\n",
    "Note that these are locally the only directly calcuated values in that table (values in table 35 that have daggers are interpolated).\n",
    "    "
   ]
  },
  {
   "cell_type": "code",
   "execution_count": 2,
   "metadata": {},
   "outputs": [],
   "source": [
    "η = 1/2\n",
    "def Re(η,μ,Ta):\n",
    "    return np.sqrt(9/64*((1-η)/η)**2*1/((1-μ)*(1-4*μ))*Ta)"
   ]
  },
  {
   "cell_type": "markdown",
   "metadata": {},
   "source": [
    "The $\\mathrm{Re}$ for a code normalized with Marcus's non-dimensionalization should be"
   ]
  },
  {
   "cell_type": "code",
   "execution_count": 3,
   "metadata": {},
   "outputs": [
    {
     "name": "stdout",
     "output_type": "stream",
     "text": [
      "Re = 82.55760118425344\n"
     ]
    }
   ],
   "source": [
    "# Chandra kappa=0.4\n",
    "μ = 0.11765\n",
    "Ta = 2.264e4\n",
    "print(\"Re = {}\".format(Re(η,μ,Ta)))"
   ]
  },
  {
   "cell_type": "code",
   "execution_count": 4,
   "metadata": {},
   "outputs": [
    {
     "name": "stdout",
     "output_type": "stream",
     "text": [
      "Re = 99.46135063967873\n"
     ]
    }
   ],
   "source": [
    "# Chandra kappa=0.6\n",
    "μ = 0.16667\n",
    "Ta = 1.954e4\n",
    "print(\"Re = {}\".format(Re(η,μ,Ta)))"
   ]
  },
  {
   "cell_type": "markdown",
   "metadata": {},
   "source": [
    "though these are *not* the values reported for $\\mathrm{Re}$. All other parameters are correct."
   ]
  },
  {
   "cell_type": "markdown",
   "metadata": {},
   "source": [
    "Krueger, Gross and DiPrima (1966)\n",
    "-------------------------------\n",
    "\n",
    "Marcus also compares to Krueger, Gross and DiPrima (1966).  Marcus appears to be pulling values from their Table 2, with $\\eta=0.95$.\n",
    "\n",
    "\n",
    "Let's convert their Taylor numbers into the appropriate Reynolds numbers.  Their $\\mathrm{Ta}$ is in equations 5:\n",
    "\\begin{align}\n",
    "    \\mathrm{Ta} = - \\frac{4 A \\Omega_1 d^4}{\\nu^2}\n",
    "\\end{align}\n",
    "and with\n",
    "\\begin{align}\n",
    "    A = -\\Omega_1 (1-\\mu)/(2\\delta) \\\\\n",
    "    \\delta = \\frac{d}{R_1} = \\frac{1-\\eta}{\\eta}\n",
    "\\end{align}\n",
    "we get\n",
    "\\begin{align}\n",
    "    \\mathrm{Ta} = \\frac{4 \\Omega_1^2 d^4}{\\nu^2} \\frac{1}{2}(1-\\mu)\\frac{\\eta}{1-\\eta}\n",
    "\\end{align}\n",
    "and with\n",
    "\\begin{align}\n",
    "    d^2 = R_1^2 \\left(\\frac{1-\\eta}{\\eta}\\right)^2\n",
    "\\end{align}\n",
    "we can write\n",
    "\\begin{align}\n",
    "    \\mathrm{Ta} = 2 \\left(\\frac{\\Omega_1 R_1 d}{\\nu}\\right)^2 (1-\\mu)\\frac{(1-\\eta)}{\\eta}\n",
    "\\end{align}\n",
    "or\n",
    "\\begin{align}\n",
    "\\mathrm{Re}^2 = \\frac{1}{2}\\frac{\\eta}{1-\\eta}\\frac{1}{1-\\mu}\\mathrm{Ta}\n",
    "\\end{align}\n",
    "\n",
    "The conversion of their reported frequencies $\\sigma_r$ to the timescales of Marcus come from:\n",
    "\\begin{align}\n",
    "    \\tau_M = \\frac{d}{\\Omega_1 R_1} \\\\\n",
    "    \\tau_K = \\frac{d^2}{\\nu}\n",
    "\\end{align}  \n",
    "This leads to a ratio of timescales:\n",
    "\\begin{align}\n",
    "    \\frac{\\tau_K}{\\tau_M} = \\frac{\\Omega_1 R_1 d}{\\nu} = \\mathrm{Re}\n",
    "\\end{align}"
   ]
  },
  {
   "cell_type": "code",
   "execution_count": 5,
   "metadata": {},
   "outputs": [],
   "source": [
    "def Re_KGdP(η,μ,Ta):\n",
    "    return np.sqrt(Ta*1/2*(η/(1-η))*1/(1-μ))"
   ]
  },
  {
   "cell_type": "markdown",
   "metadata": {},
   "source": [
    "`KGdP_Ta` gives the input parameters. It is a dictionary of dictionaries holding all parameters as a function of $\\mu$: $\\mathrm{Ta}$, $\\sigma$, $\\alpha$, and $m$.\n",
    "\n",
    "In the cell below, we take each of these parameter sets, calculuate the $\\mathrm{Re}$ from $\\mathrm{Ta}$, and rename all dictionary keys to match those parameters pre-defined in our eigenvalue solver. This is done because they match an already pre-existing initial value problem code. The output is `KGdP_Re`, which contains parameters ready made for our solver."
   ]
  },
  {
   "cell_type": "code",
   "execution_count": 22,
   "metadata": {},
   "outputs": [
    {
     "name": "stdout",
     "output_type": "stream",
     "text": [
      "μ =  0.00:    Re = 182.60353227689754 and  σ = 0.0\n",
      "μ = -0.80:    Re = 269.19117535478165 and  σ = 0.056116252622661136\n",
      "μ = -1.00:    Re = 308.77499898793604 and  σ = 0.07564731625474835\n",
      "μ = -1.25:    Re = 359.6319105851301 and  σ = 0.09204411239854166\n",
      "μ = -1.50:    Re = 414.9296325884665 and  σ = 0.10511661875752078\n",
      "μ = -1.75:    Re = 475.3580468733779 and  σ = 0.10841722431960434\n",
      "μ = -2.00:    Re = 537.6898114464632 and  σ = 0.11930112610360855\n"
     ]
    }
   ],
   "source": [
    "η = 0.95\n",
    "KGdP_Ta = {0:{'Ta':3509.9, 'σ':0     , 'α': 3.128, 'm': 0}, \n",
    "        -0.8:{'Ta':13730,  'σ':15.106, 'α': 3.561, 'm': 3}, \n",
    "          -1:{'Ta':20072,  'σ':23.358, 'α': 3.680, 'm': 4},\n",
    "       -1.25:{'Ta':30632,  'σ':33.102, 'α': 3.774, 'm': 5},\n",
    "        -1.5:{'Ta':45307,  'σ':43.616, 'α': 4.002, 'm': 6},\n",
    "       -1.75:{'Ta':65411,  'σ':51.537, 'α': 3.986, 'm': 6}, \n",
    "        -2.0:{'Ta':91298,  'σ':64.147, 'α': 4.483, 'm': 7}\n",
    "       }\n",
    "KGdP_Re = {μ: {} for μ in KGdP_Ta}\n",
    "for μ in KGdP_Ta:\n",
    "    Ta = KGdP_Ta[μ]['Ta']\n",
    "    σ = KGdP_Ta[μ]['σ']\n",
    "    Re = Re_KGdP(η,μ,Ta)\n",
    "    KGdP_Re[μ]['nu'] = 1/Re\n",
    "    KGdP_Re[μ]['mu'] = μ\n",
    "    KGdP_Re[μ]['m'] = KGdP_Ta[μ]['m']\n",
    "    KGdP_Re[μ]['eta'] = η\n",
    "    KGdP_Re[μ]['kz'] = KGdP_Ta[μ]['α']\n",
    "\n",
    "    print(\"μ = {:5.2f}:    Re = {} and  σ = {}\".format(μ, Re, σ*KGdP_Re[μ]['nu']))"
   ]
  },
  {
   "cell_type": "markdown",
   "metadata": {},
   "source": [
    "## Check Growth Rates\n",
    "\n",
    "Here, we check our results against all data reported in Marcus 1984a, correcting for $\\mathrm{Re}$ as above for KGD66.\n",
    "\n",
    "The next two cells contain the eigenvalue solver; below `nr` is the resolution. Other parameters are just the first row of the data table; they are only necessary to initialize the solver."
   ]
  },
  {
   "cell_type": "code",
   "execution_count": 11,
   "metadata": {},
   "outputs": [],
   "source": [
    "nr = 32\n",
    "\n",
    "# default parameters from KDG66 Table 2, row 1\n",
    "Re1 = 182.60353227689754\n",
    "eta = 0.95\n",
    "mu = 0.\n",
    "alpha = 3.128\n",
    "m = 0"
   ]
  },
  {
   "cell_type": "code",
   "execution_count": 12,
   "metadata": {},
   "outputs": [
    {
     "name": "stdout",
     "output_type": "stream",
     "text": [
      "2020-05-01 17:24:05,536 problems 0/1 INFO :: Solving EVP with homogeneity tolerance of 1.000e-10\n"
     ]
    }
   ],
   "source": [
    "\"\"\"\n",
    "delta = R2 - R1\n",
    "mu = Omega2/Omega1\n",
    "eta = R1/R2\n",
    "\n",
    "scale [L] = delta\n",
    "scale [T] = delta/(R1 Omega1)\n",
    "scale [V] = R1 Omega1\n",
    "\"\"\"\n",
    "#derived parameters\n",
    "R1 = eta/(1. - eta)\n",
    "R2 = 1./(1-eta)\n",
    "nu = 1./Re1\n",
    "\n",
    "variables = ['u','ur','v','vr','w','wr','p']\n",
    "\n",
    "#domain\n",
    "r_basis = de.Chebyshev('r', nr, interval=[R1, R2])\n",
    "\n",
    "bases = [r_basis]\n",
    "domain = de.Domain(bases) \n",
    "\n",
    "#problem\n",
    "problem = de.EVP(domain, eigenvalue='sigma', variables=variables)\n",
    "\n",
    "#params into equations\n",
    "problem.parameters['eta']=eta\n",
    "problem.parameters['mu']=mu\n",
    "problem.parameters['nu']=nu\n",
    "problem.parameters['kz'] = alpha\n",
    "problem.parameters['m'] = m\n",
    "\n",
    "#Substitutions\n",
    "\n",
    "\"\"\"\n",
    "this implements the cylindrical del operators. \n",
    "NB: ASSUMES THE EQUATION SET IS PREMULTIPLIED BY A POWER OF r (SEE BELOW)!!!\n",
    "\n",
    "Lap_s --> scalar laplacian\n",
    "Lap_r --> r component of vector laplacian\n",
    "Lap_t --> theta component of vector laplacian\n",
    "Lap_z --> z component of vector laplacian\n",
    "\n",
    "\"\"\"\n",
    "\n",
    "problem.substitutions['A'] = '(1/eta - 1.)*(mu-eta**2)/(1-eta**2)'\n",
    "problem.substitutions['B'] = 'eta*(1-mu)/((1-eta)*(1-eta**2))'\n",
    "\n",
    "problem.substitutions['v0'] = 'A*r + B/r'       #background profile? forcing instead of forcing the boundaries\n",
    "problem.substitutions['dv0dr'] = 'A - B/(r*r)'  #d/dr of background forcing\n",
    "\n",
    "problem.substitutions['dtheta(f)'] = '1j*m*f'\n",
    "problem.substitutions['dz(f)'] = '1j*kz*f'\n",
    "problem.substitutions['dt(f)'] = 'sigma*f'\n",
    "\n",
    "# assume pre-multiplication by r*r\n",
    "problem.substitutions['Lap_s(f, f_r)'] = \"r*r*dr(f_r) + r*f_r + dtheta(dtheta(f)) + r*r*dz(dz(f))\"\n",
    "problem.substitutions['Lap_r'] = \"Lap_s(u, ur) - u - 2*dtheta(v)\"\n",
    "problem.substitutions['Lap_t'] = \"Lap_s(v, vr) - v + 2*dtheta(u)\"\n",
    "problem.substitutions['Lap_z'] = \"Lap_s(w, wr)\"\n",
    "\n",
    "# momentum equations\n",
    "problem.add_equation(\"r*r*dt(u) - nu*Lap_r - 2*r*v0*v + r*v0*dtheta(u) + r*r*dr(p) = 0\")\n",
    "problem.add_equation(\"r*r*dt(v) - nu*Lap_t + r*r*dv0dr*u + r*v0*u + r*v0*dtheta(v) + r*dtheta(p)  = 0\")\n",
    "problem.add_equation(\"r*r*dt(w) - nu*Lap_z + r*r*dz(p) + r*v0*dtheta(w) = 0.\")\n",
    "\n",
    "#continuity\n",
    "problem.add_equation(\"r*ur + u + dtheta(v) + r*dz(w) = 0\")\n",
    "\n",
    "#Auxillilary equations\n",
    "problem.add_equation(\"ur - dr(u) = 0\")\n",
    "problem.add_equation(\"vr - dr(v) = 0\")\n",
    "problem.add_equation(\"wr - dr(w) = 0\")\n",
    "\n",
    "#Boundary Conditions\n",
    "problem.add_bc(\"left(u) = 0\")\n",
    "problem.add_bc(\"right(u) = 0\")\n",
    "problem.add_bc(\"left(v) = 0\")\n",
    "problem.add_bc(\"right(v) = 0\")\n",
    "problem.add_bc(\"left(w) = 0\")\n",
    "problem.add_bc(\"right(w) = 0\")\n",
    "\n",
    "\n",
    "ep = Eigenproblem(problem)"
   ]
  },
  {
   "cell_type": "markdown",
   "metadata": {},
   "source": [
    "Now, we construct an output dictionary `results`, and use `eigentools` to compute a growth rate for each input parameter set."
   ]
  },
  {
   "cell_type": "code",
   "execution_count": 14,
   "metadata": {},
   "outputs": [
    {
     "name": "stdout",
     "output_type": "stream",
     "text": [
      "2020-05-01 17:24:08,759 problems 0/1 INFO :: Solving EVP with homogeneity tolerance of 1.000e-10\n"
     ]
    },
    {
     "name": "stderr",
     "output_type": "stream",
     "text": [
      "/home/joishi/hg-projects/eigentools/eigentools/eigenproblem.py:232: ComplexWarning: Casting complex values to real discards the imaginary part\n",
      "  indx = lambda1_and_indx[:, 1].astype(np.int)\n"
     ]
    },
    {
     "name": "stdout",
     "output_type": "stream",
     "text": [
      "2020-05-01 17:24:09,886 problems 0/1 INFO :: Solving EVP with homogeneity tolerance of 1.000e-10\n",
      "2020-05-01 17:24:10,786 problems 0/1 INFO :: Solving EVP with homogeneity tolerance of 1.000e-10\n",
      "2020-05-01 17:24:11,572 problems 0/1 INFO :: Solving EVP with homogeneity tolerance of 1.000e-10\n",
      "2020-05-01 17:24:12,367 problems 0/1 INFO :: Solving EVP with homogeneity tolerance of 1.000e-10\n",
      "2020-05-01 17:24:13,125 problems 0/1 INFO :: Solving EVP with homogeneity tolerance of 1.000e-10\n",
      "2020-05-01 17:24:13,937 problems 0/1 INFO :: Solving EVP with homogeneity tolerance of 1.000e-10\n"
     ]
    }
   ],
   "source": [
    "results = {μ: {} for μ in KGdP_Re}\n",
    "for μ in KGdP_Re:\n",
    "    growth, index, freq = ep.growth_rate(KGdP_Re[μ])\n",
    "    results[μ]['growth'] = growth\n",
    "    results[μ]['freq'] = freq[0]\n"
   ]
  },
  {
   "cell_type": "markdown",
   "metadata": {},
   "source": [
    "Finally, we check results against the published frequencies. Note that the $\\sigma$ in our input table is actually $-\\sigma$; we correct for that here."
   ]
  },
  {
   "cell_type": "code",
   "execution_count": 31,
   "metadata": {},
   "outputs": [],
   "source": [
    "def check_results(results, reference):\n",
    "    for μ in results:\n",
    "        res = -results[μ]['freq']\n",
    "        ref = reference[μ]['σ']*KGdP_Re[μ]['nu']\n",
    "        freq_err = (res - ref)/ref\n",
    "        print(\"μ = {:5.2f}: dedalus: {:15.12e}; reference: {:15.12e}; relative frequency error = {:5.3e} \".format(μ, res, ref, freq_err))"
   ]
  },
  {
   "cell_type": "code",
   "execution_count": 32,
   "metadata": {},
   "outputs": [
    {
     "name": "stdout",
     "output_type": "stream",
     "text": [
      "μ =  0.00: dedalus: 1.791897295476e-15; reference: 0.000000000000e+00; relative frequency error =   inf \n",
      "μ = -0.80: dedalus: 5.683123170937e-02; reference: 5.611625262266e-02; relative frequency error = 1.274e-02 \n",
      "μ = -1.00: dedalus: 7.678678940519e-02; reference: 7.564731625475e-02; relative frequency error = 1.506e-02 \n",
      "μ = -1.25: dedalus: 9.370611009154e-02; reference: 9.204411239854e-02; relative frequency error = 1.806e-02 \n",
      "μ = -1.50: dedalus: 1.073477208760e-01; reference: 1.051166187575e-01; relative frequency error = 2.123e-02 \n",
      "μ = -1.75: dedalus: 1.108497190220e-01; reference: 1.084172243196e-01; relative frequency error = 2.244e-02 \n",
      "μ = -2.00: dedalus: 1.223553832510e-01; reference: 1.193011261036e-01; relative frequency error = 2.560e-02 \n"
     ]
    },
    {
     "name": "stderr",
     "output_type": "stream",
     "text": [
      "/home/joishi/miniconda3/envs/dedalus-dev/lib/python3.7/site-packages/ipykernel_launcher.py:5: RuntimeWarning: divide by zero encountered in double_scalars\n",
      "  \"\"\"\n"
     ]
    }
   ],
   "source": [
    "check_results(results, KGdP_Ta)"
   ]
  },
  {
   "cell_type": "markdown",
   "metadata": {},
   "source": [
    "All runs agree to better than 2.5%. This relatively large error probably comes from insufficient precision in the reporting of $\\alpha$, the critical $z$ wavenumber reported in the original table."
   ]
  },
  {
   "cell_type": "code",
   "execution_count": null,
   "metadata": {},
   "outputs": [],
   "source": []
  }
 ],
 "metadata": {
  "kernelspec": {
   "display_name": "Python 3",
   "language": "python",
   "name": "python3"
  },
  "language_info": {
   "codemirror_mode": {
    "name": "ipython",
    "version": 3
   },
   "file_extension": ".py",
   "mimetype": "text/x-python",
   "name": "python",
   "nbconvert_exporter": "python",
   "pygments_lexer": "ipython3",
   "version": "3.7.3"
  }
 },
 "nbformat": 4,
 "nbformat_minor": 2
}
